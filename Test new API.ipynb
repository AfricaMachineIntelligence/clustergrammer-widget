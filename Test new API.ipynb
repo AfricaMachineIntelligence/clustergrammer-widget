{
 "cells": [
  {
   "cell_type": "code",
   "execution_count": 1,
   "metadata": {
    "collapsed": true,
    "deletable": true,
    "editable": true
   },
   "outputs": [],
   "source": [
    "import numpy as np\n",
    "import pandas as pd\n",
    "from clustergrammer_widget import *"
   ]
  },
  {
   "cell_type": "code",
   "execution_count": 2,
   "metadata": {
    "collapsed": true,
    "deletable": true,
    "editable": true
   },
   "outputs": [],
   "source": [
    "# generate random matrix\n",
    "num_rows = 500\n",
    "num_cols = 10\n",
    "np.random.seed(seed=100)\n",
    "mat = np.random.rand(num_rows, num_cols)\n",
    "\n",
    "# make row and col labels\n",
    "rows = range(num_rows)\n",
    "cols = range(num_cols)\n",
    "rows = [str(i) for i in rows]\n",
    "cols = [str(i) for i in cols]\n",
    "\n",
    "# make dataframe \n",
    "df = pd.DataFrame(data=mat, columns=cols, index=rows)"
   ]
  },
  {
   "cell_type": "markdown",
   "metadata": {
    "deletable": true,
    "editable": true
   },
   "source": [
    "# old way with variable"
   ]
  },
  {
   "cell_type": "code",
   "execution_count": 3,
   "metadata": {
    "collapsed": true,
    "deletable": true,
    "editable": true
   },
   "outputs": [],
   "source": [
    "net = Network()\n",
    "net.load_df(df)\n",
    "net.make_clust()"
   ]
  },
  {
   "cell_type": "code",
   "execution_count": 4,
   "metadata": {
    "collapsed": false,
    "deletable": true,
    "editable": true
   },
   "outputs": [
    {
     "data": {
      "application/vnd.jupyter.widget-view+json": {
       "model_id": "a405c92ed25d4620b6fca2ef6980f7bd"
      }
     },
     "metadata": {},
     "output_type": "display_data"
    }
   ],
   "source": [
    "tmp = clustergrammer_widget(network=net.widget())\n",
    "tmp"
   ]
  },
  {
   "cell_type": "markdown",
   "metadata": {
    "deletable": true,
    "editable": true
   },
   "source": [
    "# New API"
   ]
  },
  {
   "cell_type": "code",
   "execution_count": 6,
   "metadata": {
    "collapsed": false,
    "deletable": true,
    "editable": true
   },
   "outputs": [
    {
     "data": {
      "application/vnd.jupyter.widget-view+json": {
       "model_id": "a405c92ed25d4620b6fca2ef6980f7bd"
      }
     },
     "metadata": {},
     "output_type": "display_data"
    }
   ],
   "source": [
    "tmp.load_df(df)\n",
    "tmp.filter_N_top('row', 10, 'sum')\n",
    "tmp.cluster()\n",
    "tmp"
   ]
  },
  {
   "cell_type": "code",
   "execution_count": 8,
   "metadata": {
    "collapsed": true,
    "deletable": true,
    "editable": true
   },
   "outputs": [],
   "source": []
  },
  {
   "cell_type": "code",
   "execution_count": 9,
   "metadata": {
    "collapsed": false,
    "deletable": true,
    "editable": true
   },
   "outputs": [
    {
     "data": {
      "application/vnd.jupyter.widget-view+json": {
       "model_id": "a8da4c4b0e294573aff635377caf10d5"
      }
     },
     "metadata": {},
     "output_type": "display_data"
    }
   ],
   "source": []
  },
  {
   "cell_type": "code",
   "execution_count": null,
   "metadata": {
    "collapsed": true,
    "deletable": true,
    "editable": true
   },
   "outputs": [],
   "source": []
  }
 ],
 "metadata": {
  "anaconda-cloud": {},
  "kernelspec": {
   "display_name": "Python [Root]",
   "language": "python",
   "name": "Python [Root]"
  },
  "language_info": {
   "codemirror_mode": {
    "name": "ipython",
    "version": 2
   },
   "file_extension": ".py",
   "mimetype": "text/x-python",
   "name": "python",
   "nbconvert_exporter": "python",
   "pygments_lexer": "ipython2",
   "version": "2.7.12"
  },
  "widgets": {
   "application/vnd.jupyter.widget-state+json": {
    "state": {
     "a405c92ed25d4620b6fca2ef6980f7bd": {
      "model_module": "clustergrammer_widget",
      "model_module_version": "*",
      "model_name": "hello_model",
      "state": {
       "_dom_classes": [],
       "_model_module_version": "*",
       "_view_module_version": "*",
       "layout": "IPY_MODEL_da08f8e29edc49ec9fba0baf2e0471f2",
       "msg_throttle": 1,
       "network": "{\"mat\": [[0.9410990089269421, 0.8234655596586465, 0.9018137382191799, 0.7916713926859088, 0.9134041684044999, 0.26305072760022263, 0.7409314258662268, 0.9274803636892189, 0.4184798388622938, 0.7175308460954616], [0.6528941377998366, 0.7919175514677614, 0.6553507724524359, 0.6064524785047586, 0.9255888178869496, 0.7830029056093124, 0.9146308929342767, 0.8333468863964227, 0.5248821573215225, 0.7275480131279776], [0.5591845358793935, 0.956846570030116, 0.772936672798466, 0.7233024985247449, 0.8783149241161254, 0.9657986414149771, 0.3397007022845787, 0.7268852163083745, 0.6262387503008751, 0.8093780377555375], [0.726985757183767, 0.6852802020522948, 0.30565569567657436, 0.9715031894410965, 0.9222343324162675, 0.8402358809892946, 0.7404106729054525, 0.4058085402145868, 0.7755387995086137, 0.9797990410257125], [0.7117744139054097, 0.7796618386179023, 0.5029186074182913, 0.7102122578821382, 0.9304470368002522, 0.9844755678521847, 0.37129588624686427, 0.7623151582292143, 0.5787127287051622, 0.7805223996555467], [0.973176257298332, 0.6335769803907755, 0.7391123613150206, 0.3286923145649565, 0.003224724071306917, 0.8307569849880635, 0.97613022856276, 0.6442473062875326, 0.8216858797063489, 0.932891682432638], [0.7782892154498485, 0.7795983986107496, 0.6103281532093938, 0.30900034852440217, 0.697734907512956, 0.8596182957290651, 0.6253237577568076, 0.9824078296095496, 0.9765001270158553, 0.16669413119885812], [0.8194525914652697, 0.9327455495685842, 0.6090247290097126, 0.9430367662469061, 0.3762546726628926, 0.4779483048217791, 0.7191233935941231, 0.930318977083641, 0.7452787805416894, 0.20621991266022976], [0.9315091640318046, 0.684441452228487, 0.8205806892116522, 0.875768576125234, 0.44582203828480504, 0.4257662324395818, 0.5180952245545035, 0.9641657035944424, 0.18264909124385276, 0.894790897665899], [0.759191767077669, 0.8846958708872955, 0.791405830574018, 0.7300522962460669, 0.06846163922456228, 0.8998973052666157, 0.9223473388332029, 0.3673594182825406, 0.9807234940209526, 0.3272513161552978]], \"links\": [], \"views\": [{\"N_row_sum\": \"all\", \"dist\": \"cos\", \"nodes\": {\"row_nodes\": [{\"group\": [5.0, 5.0, 5.0, 5.0, 3.0, 3.0, 2.0, 2.0, 1.0, 1.0, 1.0], \"name\": \"346\", \"clust\": 4, \"rank\": 9, \"ini\": 10, \"rankvar\": 4}, {\"group\": [9.0, 8.0, 7.0, 6.0, 4.0, 3.0, 2.0, 2.0, 1.0, 1.0, 1.0], \"name\": \"325\", \"clust\": 7, \"rank\": 8, \"ini\": 9, \"rankvar\": 0}, {\"group\": [7.0, 7.0, 6.0, 6.0, 4.0, 3.0, 2.0, 2.0, 1.0, 1.0, 1.0], \"name\": \"107\", \"clust\": 8, \"rank\": 7, \"ini\": 8, \"rankvar\": 2}, {\"group\": [10.0, 9.0, 8.0, 6.0, 4.0, 3.0, 2.0, 2.0, 1.0, 1.0, 1.0], \"name\": \"371\", \"clust\": 6, \"rank\": 6, \"ini\": 7, \"rankvar\": 3}, {\"group\": [8.0, 7.0, 6.0, 6.0, 4.0, 3.0, 2.0, 2.0, 1.0, 1.0, 1.0], \"name\": \"432\", \"clust\": 9, \"rank\": 5, \"ini\": 6, \"rankvar\": 1}, {\"group\": [1.0, 1.0, 1.0, 1.0, 1.0, 1.0, 1.0, 1.0, 1.0, 1.0, 1.0], \"name\": \"426\", \"clust\": 0, \"rank\": 4, \"ini\": 5, \"rankvar\": 9}, {\"group\": [3.0, 3.0, 3.0, 3.0, 2.0, 2.0, 2.0, 2.0, 1.0, 1.0, 1.0], \"name\": \"10\", \"clust\": 2, \"rank\": 3, \"ini\": 4, \"rankvar\": 6}, {\"group\": [4.0, 4.0, 4.0, 4.0, 2.0, 2.0, 2.0, 2.0, 1.0, 1.0, 1.0], \"name\": \"367\", \"clust\": 3, \"rank\": 2, \"ini\": 3, \"rankvar\": 5}, {\"group\": [6.0, 6.0, 5.0, 5.0, 3.0, 3.0, 2.0, 2.0, 1.0, 1.0, 1.0], \"name\": \"247\", \"clust\": 5, \"rank\": 1, \"ini\": 2, \"rankvar\": 7}, {\"group\": [2.0, 2.0, 2.0, 2.0, 1.0, 1.0, 1.0, 1.0, 1.0, 1.0, 1.0], \"name\": \"348\", \"clust\": 1, \"rank\": 0, \"ini\": 1, \"rankvar\": 8}], \"col_nodes\": [{\"group\": [3.0, 3.0, 2.0, 2.0, 2.0, 1.0, 1.0, 1.0, 1.0, 1.0, 1.0], \"name\": \"0\", \"clust\": 8, \"rank\": 8, \"ini\": 10, \"rankvar\": 1}, {\"group\": [5.0, 5.0, 2.0, 2.0, 2.0, 1.0, 1.0, 1.0, 1.0, 1.0, 1.0], \"name\": \"1\", \"clust\": 7, \"rank\": 9, \"ini\": 9, \"rankvar\": 0}, {\"group\": [4.0, 4.0, 2.0, 2.0, 2.0, 1.0, 1.0, 1.0, 1.0, 1.0, 1.0], \"name\": \"2\", \"clust\": 9, \"rank\": 3, \"ini\": 8, \"rankvar\": 2}, {\"group\": [8.0, 8.0, 4.0, 3.0, 2.0, 1.0, 1.0, 1.0, 1.0, 1.0, 1.0], \"name\": \"3\", \"clust\": 4, \"rank\": 5, \"ini\": 7, \"rankvar\": 5}, {\"group\": [10.0, 10.0, 6.0, 5.0, 4.0, 3.0, 2.0, 2.0, 1.0, 1.0, 1.0], \"name\": \"4\", \"clust\": 0, \"rank\": 0, \"ini\": 6, \"rankvar\": 9}, {\"group\": [1.0, 1.0, 1.0, 1.0, 1.0, 1.0, 1.0, 1.0, 1.0, 1.0, 1.0], \"name\": \"5\", \"clust\": 2, \"rank\": 6, \"ini\": 5, \"rankvar\": 7}, {\"group\": [7.0, 7.0, 3.0, 2.0, 2.0, 1.0, 1.0, 1.0, 1.0, 1.0, 1.0], \"name\": \"6\", \"clust\": 5, \"rank\": 4, \"ini\": 4, \"rankvar\": 4}, {\"group\": [6.0, 6.0, 2.0, 2.0, 2.0, 1.0, 1.0, 1.0, 1.0, 1.0, 1.0], \"name\": \"7\", \"clust\": 6, \"rank\": 7, \"ini\": 3, \"rankvar\": 3}, {\"group\": [2.0, 2.0, 1.0, 1.0, 1.0, 1.0, 1.0, 1.0, 1.0, 1.0, 1.0], \"name\": \"8\", \"clust\": 3, \"rank\": 2, \"ini\": 2, \"rankvar\": 6}, {\"group\": [9.0, 9.0, 5.0, 4.0, 3.0, 2.0, 1.0, 1.0, 1.0, 1.0, 1.0], \"name\": \"9\", \"clust\": 1, \"rank\": 1, \"ini\": 1, \"rankvar\": 8}]}}, {\"N_row_var\": \"all\", \"nodes\": {\"row_nodes\": [{\"group\": [5.0, 5.0, 5.0, 5.0, 3.0, 3.0, 2.0, 2.0, 1.0, 1.0, 1.0], \"name\": \"346\", \"clust\": 4, \"rank\": 9, \"ini\": 10, \"rankvar\": 4}, {\"group\": [9.0, 8.0, 7.0, 6.0, 4.0, 3.0, 2.0, 2.0, 1.0, 1.0, 1.0], \"name\": \"325\", \"clust\": 7, \"rank\": 8, \"ini\": 9, \"rankvar\": 0}, {\"group\": [7.0, 7.0, 6.0, 6.0, 4.0, 3.0, 2.0, 2.0, 1.0, 1.0, 1.0], \"name\": \"107\", \"clust\": 8, \"rank\": 7, \"ini\": 8, \"rankvar\": 2}, {\"group\": [10.0, 9.0, 8.0, 6.0, 4.0, 3.0, 2.0, 2.0, 1.0, 1.0, 1.0], \"name\": \"371\", \"clust\": 6, \"rank\": 6, \"ini\": 7, \"rankvar\": 3}, {\"group\": [8.0, 7.0, 6.0, 6.0, 4.0, 3.0, 2.0, 2.0, 1.0, 1.0, 1.0], \"name\": \"432\", \"clust\": 9, \"rank\": 5, \"ini\": 6, \"rankvar\": 1}, {\"group\": [1.0, 1.0, 1.0, 1.0, 1.0, 1.0, 1.0, 1.0, 1.0, 1.0, 1.0], \"name\": \"426\", \"clust\": 0, \"rank\": 4, \"ini\": 5, \"rankvar\": 9}, {\"group\": [3.0, 3.0, 3.0, 3.0, 2.0, 2.0, 2.0, 2.0, 1.0, 1.0, 1.0], \"name\": \"10\", \"clust\": 2, \"rank\": 3, \"ini\": 4, \"rankvar\": 6}, {\"group\": [4.0, 4.0, 4.0, 4.0, 2.0, 2.0, 2.0, 2.0, 1.0, 1.0, 1.0], \"name\": \"367\", \"clust\": 3, \"rank\": 2, \"ini\": 3, \"rankvar\": 5}, {\"group\": [6.0, 6.0, 5.0, 5.0, 3.0, 3.0, 2.0, 2.0, 1.0, 1.0, 1.0], \"name\": \"247\", \"clust\": 5, \"rank\": 1, \"ini\": 2, \"rankvar\": 7}, {\"group\": [2.0, 2.0, 2.0, 2.0, 1.0, 1.0, 1.0, 1.0, 1.0, 1.0, 1.0], \"name\": \"348\", \"clust\": 1, \"rank\": 0, \"ini\": 1, \"rankvar\": 8}], \"col_nodes\": [{\"group\": [3.0, 3.0, 2.0, 2.0, 2.0, 1.0, 1.0, 1.0, 1.0, 1.0, 1.0], \"name\": \"0\", \"clust\": 8, \"rank\": 8, \"ini\": 10, \"rankvar\": 1}, {\"group\": [5.0, 5.0, 2.0, 2.0, 2.0, 1.0, 1.0, 1.0, 1.0, 1.0, 1.0], \"name\": \"1\", \"clust\": 7, \"rank\": 9, \"ini\": 9, \"rankvar\": 0}, {\"group\": [4.0, 4.0, 2.0, 2.0, 2.0, 1.0, 1.0, 1.0, 1.0, 1.0, 1.0], \"name\": \"2\", \"clust\": 9, \"rank\": 3, \"ini\": 8, \"rankvar\": 2}, {\"group\": [8.0, 8.0, 4.0, 3.0, 2.0, 1.0, 1.0, 1.0, 1.0, 1.0, 1.0], \"name\": \"3\", \"clust\": 4, \"rank\": 5, \"ini\": 7, \"rankvar\": 5}, {\"group\": [10.0, 10.0, 6.0, 5.0, 4.0, 3.0, 2.0, 2.0, 1.0, 1.0, 1.0], \"name\": \"4\", \"clust\": 0, \"rank\": 0, \"ini\": 6, \"rankvar\": 9}, {\"group\": [1.0, 1.0, 1.0, 1.0, 1.0, 1.0, 1.0, 1.0, 1.0, 1.0, 1.0], \"name\": \"5\", \"clust\": 2, \"rank\": 6, \"ini\": 5, \"rankvar\": 7}, {\"group\": [7.0, 7.0, 3.0, 2.0, 2.0, 1.0, 1.0, 1.0, 1.0, 1.0, 1.0], \"name\": \"6\", \"clust\": 5, \"rank\": 4, \"ini\": 4, \"rankvar\": 4}, {\"group\": [6.0, 6.0, 2.0, 2.0, 2.0, 1.0, 1.0, 1.0, 1.0, 1.0, 1.0], \"name\": \"7\", \"clust\": 6, \"rank\": 7, \"ini\": 3, \"rankvar\": 3}, {\"group\": [2.0, 2.0, 1.0, 1.0, 1.0, 1.0, 1.0, 1.0, 1.0, 1.0, 1.0], \"name\": \"8\", \"clust\": 3, \"rank\": 2, \"ini\": 2, \"rankvar\": 6}, {\"group\": [9.0, 9.0, 5.0, 4.0, 3.0, 2.0, 1.0, 1.0, 1.0, 1.0, 1.0], \"name\": \"9\", \"clust\": 1, \"rank\": 1, \"ini\": 1, \"rankvar\": 8}]}, \"dist\": \"cos\"}], \"cat_colors\": {\"col\": {}, \"row\": {}}, \"row_nodes\": [{\"group\": [5.0, 5.0, 5.0, 5.0, 3.0, 3.0, 2.0, 2.0, 1.0, 1.0, 1.0], \"name\": \"346\", \"clust\": 4, \"rank\": 9, \"ini\": 10, \"rankvar\": 4}, {\"group\": [9.0, 8.0, 7.0, 6.0, 4.0, 3.0, 2.0, 2.0, 1.0, 1.0, 1.0], \"name\": \"325\", \"clust\": 7, \"rank\": 8, \"ini\": 9, \"rankvar\": 0}, {\"group\": [7.0, 7.0, 6.0, 6.0, 4.0, 3.0, 2.0, 2.0, 1.0, 1.0, 1.0], \"name\": \"107\", \"clust\": 8, \"rank\": 7, \"ini\": 8, \"rankvar\": 2}, {\"group\": [10.0, 9.0, 8.0, 6.0, 4.0, 3.0, 2.0, 2.0, 1.0, 1.0, 1.0], \"name\": \"371\", \"clust\": 6, \"rank\": 6, \"ini\": 7, \"rankvar\": 3}, {\"group\": [8.0, 7.0, 6.0, 6.0, 4.0, 3.0, 2.0, 2.0, 1.0, 1.0, 1.0], \"name\": \"432\", \"clust\": 9, \"rank\": 5, \"ini\": 6, \"rankvar\": 1}, {\"group\": [1.0, 1.0, 1.0, 1.0, 1.0, 1.0, 1.0, 1.0, 1.0, 1.0, 1.0], \"name\": \"426\", \"clust\": 0, \"rank\": 4, \"ini\": 5, \"rankvar\": 9}, {\"group\": [3.0, 3.0, 3.0, 3.0, 2.0, 2.0, 2.0, 2.0, 1.0, 1.0, 1.0], \"name\": \"10\", \"clust\": 2, \"rank\": 3, \"ini\": 4, \"rankvar\": 6}, {\"group\": [4.0, 4.0, 4.0, 4.0, 2.0, 2.0, 2.0, 2.0, 1.0, 1.0, 1.0], \"name\": \"367\", \"clust\": 3, \"rank\": 2, \"ini\": 3, \"rankvar\": 5}, {\"group\": [6.0, 6.0, 5.0, 5.0, 3.0, 3.0, 2.0, 2.0, 1.0, 1.0, 1.0], \"name\": \"247\", \"clust\": 5, \"rank\": 1, \"ini\": 2, \"rankvar\": 7}, {\"group\": [2.0, 2.0, 2.0, 2.0, 1.0, 1.0, 1.0, 1.0, 1.0, 1.0, 1.0], \"name\": \"348\", \"clust\": 1, \"rank\": 0, \"ini\": 1, \"rankvar\": 8}], \"col_nodes\": [{\"group\": [3.0, 3.0, 2.0, 2.0, 2.0, 1.0, 1.0, 1.0, 1.0, 1.0, 1.0], \"name\": \"0\", \"clust\": 8, \"rank\": 8, \"ini\": 10, \"rankvar\": 1}, {\"group\": [5.0, 5.0, 2.0, 2.0, 2.0, 1.0, 1.0, 1.0, 1.0, 1.0, 1.0], \"name\": \"1\", \"clust\": 7, \"rank\": 9, \"ini\": 9, \"rankvar\": 0}, {\"group\": [4.0, 4.0, 2.0, 2.0, 2.0, 1.0, 1.0, 1.0, 1.0, 1.0, 1.0], \"name\": \"2\", \"clust\": 9, \"rank\": 3, \"ini\": 8, \"rankvar\": 2}, {\"group\": [8.0, 8.0, 4.0, 3.0, 2.0, 1.0, 1.0, 1.0, 1.0, 1.0, 1.0], \"name\": \"3\", \"clust\": 4, \"rank\": 5, \"ini\": 7, \"rankvar\": 5}, {\"group\": [10.0, 10.0, 6.0, 5.0, 4.0, 3.0, 2.0, 2.0, 1.0, 1.0, 1.0], \"name\": \"4\", \"clust\": 0, \"rank\": 0, \"ini\": 6, \"rankvar\": 9}, {\"group\": [1.0, 1.0, 1.0, 1.0, 1.0, 1.0, 1.0, 1.0, 1.0, 1.0, 1.0], \"name\": \"5\", \"clust\": 2, \"rank\": 6, \"ini\": 5, \"rankvar\": 7}, {\"group\": [7.0, 7.0, 3.0, 2.0, 2.0, 1.0, 1.0, 1.0, 1.0, 1.0, 1.0], \"name\": \"6\", \"clust\": 5, \"rank\": 4, \"ini\": 4, \"rankvar\": 4}, {\"group\": [6.0, 6.0, 2.0, 2.0, 2.0, 1.0, 1.0, 1.0, 1.0, 1.0, 1.0], \"name\": \"7\", \"clust\": 6, \"rank\": 7, \"ini\": 3, \"rankvar\": 3}, {\"group\": [2.0, 2.0, 1.0, 1.0, 1.0, 1.0, 1.0, 1.0, 1.0, 1.0, 1.0], \"name\": \"8\", \"clust\": 3, \"rank\": 2, \"ini\": 2, \"rankvar\": 6}, {\"group\": [9.0, 9.0, 5.0, 4.0, 3.0, 2.0, 1.0, 1.0, 1.0, 1.0, 1.0], \"name\": \"9\", \"clust\": 1, \"rank\": 1, \"ini\": 1, \"rankvar\": 8}]}",
       "string_mat": "",
       "viz_title": "updating python by restarting kernel"
      }
     },
     "da08f8e29edc49ec9fba0baf2e0471f2": {
      "model_module": "jupyter-js-widgets",
      "model_module_version": "~2.1.4",
      "model_name": "LayoutModel",
      "state": {
       "_model_module_version": "~2.1.4",
       "_view_module_version": "~2.1.4"
      }
     }
    },
    "version_major": 1,
    "version_minor": 0
   }
  }
 },
 "nbformat": 4,
 "nbformat_minor": 2
}
